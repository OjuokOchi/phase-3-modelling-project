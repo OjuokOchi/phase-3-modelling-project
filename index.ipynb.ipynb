{
 "cells": [
  {
   "cell_type": "markdown",
   "metadata": {},
   "source": [
    "Business Problem\n",
    "Title: Estimation of Obesity Levels Based on Eating Habits and Physical Condition\n",
    "\n",
    "Background: Obesity is a significant public health concern, contributing to various chronic diseases such as diabetes, cardiovascular disease, and certain cancers. Early identification and classification of obesity levels are crucial for implementing preventive measures and personalized treatment plans. Traditional methods for assessing obesity, such as Body Mass Index (BMI), may not fully capture the nuances of an individual's health status, as they do not consider factors like eating habits, physical activity, and other lifestyle factors.\n",
    "\n",
    "Problem Statement: The goal is to develop a predictive model that can accurately estimate an individual's obesity level based on their eating habits and physical condition. By analyzing a dataset containing various features related to diet, physical activity, and demographic information, the model will help in identifying different obesity levels, allowing healthcare professionals to tailor interventions accordingly.\n",
    "\n",
    "Business Understanding\n",
    "Objective: The primary objective is to leverage machine learning techniques to classify individuals into different obesity levels (e.g., underweight, normal weight, overweight, and various obesity types) based on their eating habits, physical activity, and other relevant factors. This model will enable healthcare providers and public health authorities to:\n",
    "\n",
    "Early Detection: Identify individuals at risk of developing obesity or related health conditions early on, allowing for timely interventions.\n",
    "\n",
    "Personalized Treatment Plans: Provide insights into the specific lifestyle factors contributing to an individual's obesity level, facilitating personalized diet and exercise recommendations.\n",
    "\n",
    "Resource Allocation: Assist in efficiently allocating healthcare resources by focusing on high-risk groups.\n"
   ]
  },
  {
   "cell_type": "markdown",
   "metadata": {},
   "source": [
    "Key Questions:\n",
    "\n",
    "What are the main factors contributing to different obesity levels?\n",
    "Understanding which eating habits, physical activities, and other factors have the most significant impact on obesity levels.\n",
    "\n",
    "How accurately can we predict an individual's obesity level using machine learning models?\n",
    "Evaluating the performance of models like Logistic Regression in predicting obesity levels and identifying areas for improvement.\n",
    "\n",
    "Can the model provide actionable insights for preventive measures?\n",
    "Ensuring that the model's outputs are interpretable and can be used to make practical recommendations for individuals."
   ]
  },
  {
   "cell_type": "code",
   "execution_count": 139,
   "metadata": {},
   "outputs": [],
   "source": [
    "# importing libraries\n",
    "import pandas as pd \n",
    "import numpy as np\n",
    "import matplotlib.pyplot as plt\n",
    "import seaborn as sns"
   ]
  },
  {
   "cell_type": "code",
   "execution_count": 140,
   "metadata": {},
   "outputs": [],
   "source": [
    "# loading the data\n",
    "path = r'C:\\Users\\Hp\\Downloads\\estimation+of+obesity+levels+based+on+eating+habits+and+physical+condition\\ObesityDataSet_raw_and_data_sinthetic.csv'\n",
    "df = pd.read_csv(path)"
   ]
  },
  {
   "cell_type": "code",
   "execution_count": 141,
   "metadata": {},
   "outputs": [
    {
     "data": {
      "text/html": [
       "<div>\n",
       "<style scoped>\n",
       "    .dataframe tbody tr th:only-of-type {\n",
       "        vertical-align: middle;\n",
       "    }\n",
       "\n",
       "    .dataframe tbody tr th {\n",
       "        vertical-align: top;\n",
       "    }\n",
       "\n",
       "    .dataframe thead th {\n",
       "        text-align: right;\n",
       "    }\n",
       "</style>\n",
       "<table border=\"1\" class=\"dataframe\">\n",
       "  <thead>\n",
       "    <tr style=\"text-align: right;\">\n",
       "      <th></th>\n",
       "      <th>Gender</th>\n",
       "      <th>Age</th>\n",
       "      <th>Height</th>\n",
       "      <th>Weight</th>\n",
       "      <th>family_history_with_overweight</th>\n",
       "      <th>FAVC</th>\n",
       "      <th>FCVC</th>\n",
       "      <th>NCP</th>\n",
       "      <th>CAEC</th>\n",
       "      <th>SMOKE</th>\n",
       "      <th>CH2O</th>\n",
       "      <th>SCC</th>\n",
       "      <th>FAF</th>\n",
       "      <th>TUE</th>\n",
       "      <th>CALC</th>\n",
       "      <th>MTRANS</th>\n",
       "      <th>NObeyesdad</th>\n",
       "    </tr>\n",
       "  </thead>\n",
       "  <tbody>\n",
       "    <tr>\n",
       "      <th>0</th>\n",
       "      <td>Female</td>\n",
       "      <td>21.000000</td>\n",
       "      <td>1.620000</td>\n",
       "      <td>64.000000</td>\n",
       "      <td>yes</td>\n",
       "      <td>no</td>\n",
       "      <td>2.0</td>\n",
       "      <td>3.0</td>\n",
       "      <td>Sometimes</td>\n",
       "      <td>no</td>\n",
       "      <td>2.000000</td>\n",
       "      <td>no</td>\n",
       "      <td>0.000000</td>\n",
       "      <td>1.000000</td>\n",
       "      <td>no</td>\n",
       "      <td>Public_Transportation</td>\n",
       "      <td>Normal_Weight</td>\n",
       "    </tr>\n",
       "    <tr>\n",
       "      <th>1</th>\n",
       "      <td>Female</td>\n",
       "      <td>21.000000</td>\n",
       "      <td>1.520000</td>\n",
       "      <td>56.000000</td>\n",
       "      <td>yes</td>\n",
       "      <td>no</td>\n",
       "      <td>3.0</td>\n",
       "      <td>3.0</td>\n",
       "      <td>Sometimes</td>\n",
       "      <td>yes</td>\n",
       "      <td>3.000000</td>\n",
       "      <td>yes</td>\n",
       "      <td>3.000000</td>\n",
       "      <td>0.000000</td>\n",
       "      <td>Sometimes</td>\n",
       "      <td>Public_Transportation</td>\n",
       "      <td>Normal_Weight</td>\n",
       "    </tr>\n",
       "    <tr>\n",
       "      <th>2</th>\n",
       "      <td>Male</td>\n",
       "      <td>23.000000</td>\n",
       "      <td>1.800000</td>\n",
       "      <td>77.000000</td>\n",
       "      <td>yes</td>\n",
       "      <td>no</td>\n",
       "      <td>2.0</td>\n",
       "      <td>3.0</td>\n",
       "      <td>Sometimes</td>\n",
       "      <td>no</td>\n",
       "      <td>2.000000</td>\n",
       "      <td>no</td>\n",
       "      <td>2.000000</td>\n",
       "      <td>1.000000</td>\n",
       "      <td>Frequently</td>\n",
       "      <td>Public_Transportation</td>\n",
       "      <td>Normal_Weight</td>\n",
       "    </tr>\n",
       "    <tr>\n",
       "      <th>3</th>\n",
       "      <td>Male</td>\n",
       "      <td>27.000000</td>\n",
       "      <td>1.800000</td>\n",
       "      <td>87.000000</td>\n",
       "      <td>no</td>\n",
       "      <td>no</td>\n",
       "      <td>3.0</td>\n",
       "      <td>3.0</td>\n",
       "      <td>Sometimes</td>\n",
       "      <td>no</td>\n",
       "      <td>2.000000</td>\n",
       "      <td>no</td>\n",
       "      <td>2.000000</td>\n",
       "      <td>0.000000</td>\n",
       "      <td>Frequently</td>\n",
       "      <td>Walking</td>\n",
       "      <td>Overweight_Level_I</td>\n",
       "    </tr>\n",
       "    <tr>\n",
       "      <th>4</th>\n",
       "      <td>Male</td>\n",
       "      <td>22.000000</td>\n",
       "      <td>1.780000</td>\n",
       "      <td>89.800000</td>\n",
       "      <td>no</td>\n",
       "      <td>no</td>\n",
       "      <td>2.0</td>\n",
       "      <td>1.0</td>\n",
       "      <td>Sometimes</td>\n",
       "      <td>no</td>\n",
       "      <td>2.000000</td>\n",
       "      <td>no</td>\n",
       "      <td>0.000000</td>\n",
       "      <td>0.000000</td>\n",
       "      <td>Sometimes</td>\n",
       "      <td>Public_Transportation</td>\n",
       "      <td>Overweight_Level_II</td>\n",
       "    </tr>\n",
       "    <tr>\n",
       "      <th>...</th>\n",
       "      <td>...</td>\n",
       "      <td>...</td>\n",
       "      <td>...</td>\n",
       "      <td>...</td>\n",
       "      <td>...</td>\n",
       "      <td>...</td>\n",
       "      <td>...</td>\n",
       "      <td>...</td>\n",
       "      <td>...</td>\n",
       "      <td>...</td>\n",
       "      <td>...</td>\n",
       "      <td>...</td>\n",
       "      <td>...</td>\n",
       "      <td>...</td>\n",
       "      <td>...</td>\n",
       "      <td>...</td>\n",
       "      <td>...</td>\n",
       "    </tr>\n",
       "    <tr>\n",
       "      <th>2106</th>\n",
       "      <td>Female</td>\n",
       "      <td>20.976842</td>\n",
       "      <td>1.710730</td>\n",
       "      <td>131.408528</td>\n",
       "      <td>yes</td>\n",
       "      <td>yes</td>\n",
       "      <td>3.0</td>\n",
       "      <td>3.0</td>\n",
       "      <td>Sometimes</td>\n",
       "      <td>no</td>\n",
       "      <td>1.728139</td>\n",
       "      <td>no</td>\n",
       "      <td>1.676269</td>\n",
       "      <td>0.906247</td>\n",
       "      <td>Sometimes</td>\n",
       "      <td>Public_Transportation</td>\n",
       "      <td>Obesity_Type_III</td>\n",
       "    </tr>\n",
       "    <tr>\n",
       "      <th>2107</th>\n",
       "      <td>Female</td>\n",
       "      <td>21.982942</td>\n",
       "      <td>1.748584</td>\n",
       "      <td>133.742943</td>\n",
       "      <td>yes</td>\n",
       "      <td>yes</td>\n",
       "      <td>3.0</td>\n",
       "      <td>3.0</td>\n",
       "      <td>Sometimes</td>\n",
       "      <td>no</td>\n",
       "      <td>2.005130</td>\n",
       "      <td>no</td>\n",
       "      <td>1.341390</td>\n",
       "      <td>0.599270</td>\n",
       "      <td>Sometimes</td>\n",
       "      <td>Public_Transportation</td>\n",
       "      <td>Obesity_Type_III</td>\n",
       "    </tr>\n",
       "    <tr>\n",
       "      <th>2108</th>\n",
       "      <td>Female</td>\n",
       "      <td>22.524036</td>\n",
       "      <td>1.752206</td>\n",
       "      <td>133.689352</td>\n",
       "      <td>yes</td>\n",
       "      <td>yes</td>\n",
       "      <td>3.0</td>\n",
       "      <td>3.0</td>\n",
       "      <td>Sometimes</td>\n",
       "      <td>no</td>\n",
       "      <td>2.054193</td>\n",
       "      <td>no</td>\n",
       "      <td>1.414209</td>\n",
       "      <td>0.646288</td>\n",
       "      <td>Sometimes</td>\n",
       "      <td>Public_Transportation</td>\n",
       "      <td>Obesity_Type_III</td>\n",
       "    </tr>\n",
       "    <tr>\n",
       "      <th>2109</th>\n",
       "      <td>Female</td>\n",
       "      <td>24.361936</td>\n",
       "      <td>1.739450</td>\n",
       "      <td>133.346641</td>\n",
       "      <td>yes</td>\n",
       "      <td>yes</td>\n",
       "      <td>3.0</td>\n",
       "      <td>3.0</td>\n",
       "      <td>Sometimes</td>\n",
       "      <td>no</td>\n",
       "      <td>2.852339</td>\n",
       "      <td>no</td>\n",
       "      <td>1.139107</td>\n",
       "      <td>0.586035</td>\n",
       "      <td>Sometimes</td>\n",
       "      <td>Public_Transportation</td>\n",
       "      <td>Obesity_Type_III</td>\n",
       "    </tr>\n",
       "    <tr>\n",
       "      <th>2110</th>\n",
       "      <td>Female</td>\n",
       "      <td>23.664709</td>\n",
       "      <td>1.738836</td>\n",
       "      <td>133.472641</td>\n",
       "      <td>yes</td>\n",
       "      <td>yes</td>\n",
       "      <td>3.0</td>\n",
       "      <td>3.0</td>\n",
       "      <td>Sometimes</td>\n",
       "      <td>no</td>\n",
       "      <td>2.863513</td>\n",
       "      <td>no</td>\n",
       "      <td>1.026452</td>\n",
       "      <td>0.714137</td>\n",
       "      <td>Sometimes</td>\n",
       "      <td>Public_Transportation</td>\n",
       "      <td>Obesity_Type_III</td>\n",
       "    </tr>\n",
       "  </tbody>\n",
       "</table>\n",
       "<p>2111 rows × 17 columns</p>\n",
       "</div>"
      ],
      "text/plain": [
       "      Gender        Age    Height      Weight family_history_with_overweight  \\\n",
       "0     Female  21.000000  1.620000   64.000000                            yes   \n",
       "1     Female  21.000000  1.520000   56.000000                            yes   \n",
       "2       Male  23.000000  1.800000   77.000000                            yes   \n",
       "3       Male  27.000000  1.800000   87.000000                             no   \n",
       "4       Male  22.000000  1.780000   89.800000                             no   \n",
       "...      ...        ...       ...         ...                            ...   \n",
       "2106  Female  20.976842  1.710730  131.408528                            yes   \n",
       "2107  Female  21.982942  1.748584  133.742943                            yes   \n",
       "2108  Female  22.524036  1.752206  133.689352                            yes   \n",
       "2109  Female  24.361936  1.739450  133.346641                            yes   \n",
       "2110  Female  23.664709  1.738836  133.472641                            yes   \n",
       "\n",
       "     FAVC  FCVC  NCP       CAEC SMOKE      CH2O  SCC       FAF       TUE  \\\n",
       "0      no   2.0  3.0  Sometimes    no  2.000000   no  0.000000  1.000000   \n",
       "1      no   3.0  3.0  Sometimes   yes  3.000000  yes  3.000000  0.000000   \n",
       "2      no   2.0  3.0  Sometimes    no  2.000000   no  2.000000  1.000000   \n",
       "3      no   3.0  3.0  Sometimes    no  2.000000   no  2.000000  0.000000   \n",
       "4      no   2.0  1.0  Sometimes    no  2.000000   no  0.000000  0.000000   \n",
       "...   ...   ...  ...        ...   ...       ...  ...       ...       ...   \n",
       "2106  yes   3.0  3.0  Sometimes    no  1.728139   no  1.676269  0.906247   \n",
       "2107  yes   3.0  3.0  Sometimes    no  2.005130   no  1.341390  0.599270   \n",
       "2108  yes   3.0  3.0  Sometimes    no  2.054193   no  1.414209  0.646288   \n",
       "2109  yes   3.0  3.0  Sometimes    no  2.852339   no  1.139107  0.586035   \n",
       "2110  yes   3.0  3.0  Sometimes    no  2.863513   no  1.026452  0.714137   \n",
       "\n",
       "            CALC                 MTRANS           NObeyesdad  \n",
       "0             no  Public_Transportation        Normal_Weight  \n",
       "1      Sometimes  Public_Transportation        Normal_Weight  \n",
       "2     Frequently  Public_Transportation        Normal_Weight  \n",
       "3     Frequently                Walking   Overweight_Level_I  \n",
       "4      Sometimes  Public_Transportation  Overweight_Level_II  \n",
       "...          ...                    ...                  ...  \n",
       "2106   Sometimes  Public_Transportation     Obesity_Type_III  \n",
       "2107   Sometimes  Public_Transportation     Obesity_Type_III  \n",
       "2108   Sometimes  Public_Transportation     Obesity_Type_III  \n",
       "2109   Sometimes  Public_Transportation     Obesity_Type_III  \n",
       "2110   Sometimes  Public_Transportation     Obesity_Type_III  \n",
       "\n",
       "[2111 rows x 17 columns]"
      ]
     },
     "execution_count": 141,
     "metadata": {},
     "output_type": "execute_result"
    }
   ],
   "source": [
    "df\n"
   ]
  },
  {
   "cell_type": "code",
   "execution_count": 142,
   "metadata": {},
   "outputs": [
    {
     "data": {
      "text/plain": [
       "(2111, 17)"
      ]
     },
     "execution_count": 142,
     "metadata": {},
     "output_type": "execute_result"
    }
   ],
   "source": [
    "# shape of the dataframe\n",
    "df.shape"
   ]
  },
  {
   "cell_type": "code",
   "execution_count": 143,
   "metadata": {},
   "outputs": [
    {
     "data": {
      "text/plain": [
       "Gender                            0\n",
       "Age                               0\n",
       "Height                            0\n",
       "Weight                            0\n",
       "family_history_with_overweight    0\n",
       "FAVC                              0\n",
       "FCVC                              0\n",
       "NCP                               0\n",
       "CAEC                              0\n",
       "SMOKE                             0\n",
       "CH2O                              0\n",
       "SCC                               0\n",
       "FAF                               0\n",
       "TUE                               0\n",
       "CALC                              0\n",
       "MTRANS                            0\n",
       "NObeyesdad                        0\n",
       "dtype: int64"
      ]
     },
     "execution_count": 143,
     "metadata": {},
     "output_type": "execute_result"
    }
   ],
   "source": [
    "#checking for missing values\n",
    "df.isnull().sum()"
   ]
  },
  {
   "cell_type": "markdown",
   "metadata": {},
   "source": [
    "\"\"\" The dataset has no missing values therefore ready for modelling\"\"\""
   ]
  },
  {
   "cell_type": "code",
   "execution_count": 144,
   "metadata": {},
   "outputs": [],
   "source": [
    "#importing necessary modelling libraries\n",
    "\n",
    "from sklearn.preprocessing import StandardScaler, OneHotEncoder\n",
    "from sklearn.linear_model import LogisticRegression\n",
    "from sklearn.model_selection import train_test_split\n",
    "from sklearn.metrics import classification_report, confusion_matrix, accuracy_score"
   ]
  },
  {
   "cell_type": "code",
   "execution_count": 145,
   "metadata": {},
   "outputs": [],
   "source": [
    "# categorical and numerical columns\n",
    "categorical_columns = df.select_dtypes(include=['object']).columns.tolist()\n",
    "numerical_columns = df.select_dtypes(include=['float64','int64']).columns.tolist()"
   ]
  },
  {
   "cell_type": "code",
   "execution_count": 146,
   "metadata": {},
   "outputs": [
    {
     "name": "stdout",
     "output_type": "stream",
     "text": [
      "['Gender', 'family_history_with_overweight', 'FAVC', 'CAEC', 'SMOKE', 'SCC', 'CALC', 'MTRANS', 'NObeyesdad']\n",
      "['Age', 'Height', 'Weight', 'FCVC', 'NCP', 'CH2O', 'FAF', 'TUE']\n"
     ]
    }
   ],
   "source": [
    "print(categorical_columns)\n",
    "print(numerical_columns)"
   ]
  },
  {
   "cell_type": "code",
   "execution_count": 147,
   "metadata": {},
   "outputs": [],
   "source": [
    "# removing the y from the categorical columns\n",
    "categorical_columns.remove('NObeyesdad')"
   ]
  },
  {
   "cell_type": "code",
   "execution_count": 148,
   "metadata": {},
   "outputs": [],
   "source": [
    "# one hot encoding \n",
    "df_encoded = pd.get_dummies(df,columns=categorical_columns,drop_first=True)"
   ]
  },
  {
   "cell_type": "code",
   "execution_count": 149,
   "metadata": {},
   "outputs": [
    {
     "name": "stdout",
     "output_type": "stream",
     "text": [
      "            Age    Height      Weight  FCVC  NCP      CH2O       FAF  \\\n",
      "0     21.000000  1.620000   64.000000   2.0  3.0  2.000000  0.000000   \n",
      "1     21.000000  1.520000   56.000000   3.0  3.0  3.000000  3.000000   \n",
      "2     23.000000  1.800000   77.000000   2.0  3.0  2.000000  2.000000   \n",
      "3     27.000000  1.800000   87.000000   3.0  3.0  2.000000  2.000000   \n",
      "4     22.000000  1.780000   89.800000   2.0  1.0  2.000000  0.000000   \n",
      "...         ...       ...         ...   ...  ...       ...       ...   \n",
      "2106  20.976842  1.710730  131.408528   3.0  3.0  1.728139  1.676269   \n",
      "2107  21.982942  1.748584  133.742943   3.0  3.0  2.005130  1.341390   \n",
      "2108  22.524036  1.752206  133.689352   3.0  3.0  2.054193  1.414209   \n",
      "2109  24.361936  1.739450  133.346641   3.0  3.0  2.852339  1.139107   \n",
      "2110  23.664709  1.738836  133.472641   3.0  3.0  2.863513  1.026452   \n",
      "\n",
      "           TUE           NObeyesdad  Gender_Male  ...  CAEC_no  SMOKE_yes  \\\n",
      "0     1.000000        Normal_Weight            0  ...        0          0   \n",
      "1     0.000000        Normal_Weight            0  ...        0          1   \n",
      "2     1.000000        Normal_Weight            1  ...        0          0   \n",
      "3     0.000000   Overweight_Level_I            1  ...        0          0   \n",
      "4     0.000000  Overweight_Level_II            1  ...        0          0   \n",
      "...        ...                  ...          ...  ...      ...        ...   \n",
      "2106  0.906247     Obesity_Type_III            0  ...        0          0   \n",
      "2107  0.599270     Obesity_Type_III            0  ...        0          0   \n",
      "2108  0.646288     Obesity_Type_III            0  ...        0          0   \n",
      "2109  0.586035     Obesity_Type_III            0  ...        0          0   \n",
      "2110  0.714137     Obesity_Type_III            0  ...        0          0   \n",
      "\n",
      "      SCC_yes  CALC_Frequently  CALC_Sometimes  CALC_no  MTRANS_Bike  \\\n",
      "0           0                0               0        1            0   \n",
      "1           1                0               1        0            0   \n",
      "2           0                1               0        0            0   \n",
      "3           0                1               0        0            0   \n",
      "4           0                0               1        0            0   \n",
      "...       ...              ...             ...      ...          ...   \n",
      "2106        0                0               1        0            0   \n",
      "2107        0                0               1        0            0   \n",
      "2108        0                0               1        0            0   \n",
      "2109        0                0               1        0            0   \n",
      "2110        0                0               1        0            0   \n",
      "\n",
      "      MTRANS_Motorbike  MTRANS_Public_Transportation  MTRANS_Walking  \n",
      "0                    0                             1               0  \n",
      "1                    0                             1               0  \n",
      "2                    0                             1               0  \n",
      "3                    0                             0               1  \n",
      "4                    0                             1               0  \n",
      "...                ...                           ...             ...  \n",
      "2106                 0                             1               0  \n",
      "2107                 0                             1               0  \n",
      "2108                 0                             1               0  \n",
      "2109                 0                             1               0  \n",
      "2110                 0                             1               0  \n",
      "\n",
      "[2111 rows x 24 columns]\n"
     ]
    }
   ],
   "source": [
    "print(df_encoded)"
   ]
  },
  {
   "cell_type": "code",
   "execution_count": 150,
   "metadata": {},
   "outputs": [],
   "source": [
    "# Standardization of the numeric columns\n",
    "scaler = StandardScaler()\n",
    "df_encoded[numerical_columns] = scaler.fit_transform(df_encoded[numerical_columns])"
   ]
  },
  {
   "cell_type": "code",
   "execution_count": 151,
   "metadata": {},
   "outputs": [],
   "source": [
    "#split the data into training and testing sets\n",
    "X = df_encoded.drop('NObeyesdad',axis=1)\n",
    "y = df_encoded['NObeyesdad']\n",
    "X_train,X_test,y_train,y_test = train_test_split(X,y, test_size=0.2, random_state=42)"
   ]
  },
  {
   "cell_type": "code",
   "execution_count": 152,
   "metadata": {},
   "outputs": [
    {
     "data": {
      "text/plain": [
       "LogisticRegression(max_iter=1000)"
      ]
     },
     "execution_count": 152,
     "metadata": {},
     "output_type": "execute_result"
    }
   ],
   "source": [
    "# Training the model\n",
    "model = LogisticRegression(max_iter=1000)\n",
    "model.fit(X_train,y_train)"
   ]
  },
  {
   "cell_type": "code",
   "execution_count": 153,
   "metadata": {},
   "outputs": [],
   "source": [
    "# Predict and evaluate\n",
    "y_pred = model.predict(X_test)\n",
    "accuracy = accuracy_score(y_test,y_pred)\n",
    "classification_report = classification_report(y_test,y_pred)\n",
    "confusion_matrix = confusion_matrix(y_test, y_pred)"
   ]
  },
  {
   "cell_type": "code",
   "execution_count": 154,
   "metadata": {},
   "outputs": [
    {
     "name": "stdout",
     "output_type": "stream",
     "text": [
      "Accuracy: 0.8699763593380615\n",
      "\n",
      "Classification Report:\n",
      "                      precision    recall  f1-score   support\n",
      "\n",
      "Insufficient_Weight       0.85      1.00      0.92        56\n",
      "      Normal_Weight       0.91      0.63      0.74        62\n",
      "     Obesity_Type_I       0.93      0.90      0.92        78\n",
      "    Obesity_Type_II       0.90      0.97      0.93        58\n",
      "   Obesity_Type_III       1.00      1.00      1.00        63\n",
      " Overweight_Level_I       0.74      0.75      0.74        56\n",
      "Overweight_Level_II       0.74      0.84      0.79        50\n",
      "\n",
      "           accuracy                           0.87       423\n",
      "          macro avg       0.87      0.87      0.86       423\n",
      "       weighted avg       0.87      0.87      0.87       423\n",
      "\n",
      "\n",
      "Confusion Matrix:\n",
      " [[56  0  0  0  0  0  0]\n",
      " [10 39  0  0  0 10  3]\n",
      " [ 0  0 70  6  0  0  2]\n",
      " [ 0  0  2 56  0  0  0]\n",
      " [ 0  0  0  0 63  0  0]\n",
      " [ 0  4  0  0  0 42 10]\n",
      " [ 0  0  3  0  0  5 42]]\n"
     ]
    }
   ],
   "source": [
    "# output\n",
    "print(\"Accuracy:\", accuracy)\n",
    "print(\"\\nClassification Report:\\n\", classification_report)\n",
    "print(\"\\nConfusion Matrix:\\n\", confusion_matrix)"
   ]
  },
  {
   "cell_type": "code",
   "execution_count": 155,
   "metadata": {},
   "outputs": [
    {
     "data": {
      "image/png": "[encoded data removed]",
      "text/plain": [
       "<Figure size 720x504 with 1 Axes>"
      ]
     },
     "metadata": {
      "needs_background": "light"
     },
     "output_type": "display_data"
    }
   ],
   "source": [
    "plt.figure(figsize=(10, 7))\n",
    "sns.heatmap(confusion_matrix, annot=True, fmt='d', cmap='Blues', cbar=False)\n",
    "plt.title('Confusion Matrix')\n",
    "plt.xlabel('Predicted Labels')\n",
    "plt.ylabel('True Labels')\n",
    "plt.show()"
   ]
  },
  {
   "cell_type": "markdown",
   "metadata": {},
   "source": [
    "Interpretation:\n",
    "Accuracy: The model has a strong accuracy of 87.23%, which means it correctly predicted the obesity level in 87.23% of the cases.\n",
    "\n",
    "Precision and Recall:\n",
    "\n",
    "The precision and recall vary across different obesity levels. For instance, the model has a perfect precision and recall for Obesity_Type_III but lower performance on Normal_Weight and Overweight_Level_I.\n",
    "Normal_Weight has a recall of 0.65, indicating that the model sometimes misses true Normal_Weight instances.\n",
    "Confusion Matrix:\n",
    "\n",
    "The diagonal elements (e.g., 56, 40, 70) show the correctly predicted instances for each class.\n",
    "Off-diagonal elements represent misclassifications. For example, Normal_Weight (second row) is sometimes misclassified as Overweight_Level_I or Insufficient_Weight"
   ]
  },
  {
   "cell_type": "markdown",
   "metadata": {},
   "source": [
    "DECISION TREES MODEL"
   ]
  },
  {
   "cell_type": "markdown",
   "metadata": {},
   "source": [
    "This will be our second model "
   ]
  },
  {
   "cell_type": "code",
   "execution_count": 156,
   "metadata": {},
   "outputs": [],
   "source": [
    "# Imorting necessary libraries for decision tree model\n",
    "from sklearn.tree import DecisionTreeClassifier\n",
    "from sklearn.preprocessing import LabelEncoder"
   ]
  },
  {
   "cell_type": "code",
   "execution_count": 157,
   "metadata": {},
   "outputs": [],
   "source": [
    "# Encoding the target variable\n",
    "label_encoder = LabelEncoder()\n",
    "df['NObeyesdad'] = label_encoder.fit_transform(df['NObeyesdad'])"
   ]
  },
  {
   "cell_type": "code",
   "execution_count": 158,
   "metadata": {},
   "outputs": [],
   "source": [
    "# prepocessing the data and converting categorical variable to an indicator variable\n",
    "df_encoded = pd.get_dummies(df.drop(columns=['NObeyesdad']),drop_first=True)"
   ]
  },
  {
   "cell_type": "code",
   "execution_count": 159,
   "metadata": {},
   "outputs": [
    {
     "name": "stdout",
     "output_type": "stream",
     "text": [
      "            Age    Height      Weight  FCVC  NCP      CH2O       FAF  \\\n",
      "0     21.000000  1.620000   64.000000   2.0  3.0  2.000000  0.000000   \n",
      "1     21.000000  1.520000   56.000000   3.0  3.0  3.000000  3.000000   \n",
      "2     23.000000  1.800000   77.000000   2.0  3.0  2.000000  2.000000   \n",
      "3     27.000000  1.800000   87.000000   3.0  3.0  2.000000  2.000000   \n",
      "4     22.000000  1.780000   89.800000   2.0  1.0  2.000000  0.000000   \n",
      "...         ...       ...         ...   ...  ...       ...       ...   \n",
      "2106  20.976842  1.710730  131.408528   3.0  3.0  1.728139  1.676269   \n",
      "2107  21.982942  1.748584  133.742943   3.0  3.0  2.005130  1.341390   \n",
      "2108  22.524036  1.752206  133.689352   3.0  3.0  2.054193  1.414209   \n",
      "2109  24.361936  1.739450  133.346641   3.0  3.0  2.852339  1.139107   \n",
      "2110  23.664709  1.738836  133.472641   3.0  3.0  2.863513  1.026452   \n",
      "\n",
      "           TUE  Gender_Male  family_history_with_overweight_yes  ...  CAEC_no  \\\n",
      "0     1.000000            0                                   1  ...        0   \n",
      "1     0.000000            0                                   1  ...        0   \n",
      "2     1.000000            1                                   1  ...        0   \n",
      "3     0.000000            1                                   0  ...        0   \n",
      "4     0.000000            1                                   0  ...        0   \n",
      "...        ...          ...                                 ...  ...      ...   \n",
      "2106  0.906247            0                                   1  ...        0   \n",
      "2107  0.599270            0                                   1  ...        0   \n",
      "2108  0.646288            0                                   1  ...        0   \n",
      "2109  0.586035            0                                   1  ...        0   \n",
      "2110  0.714137            0                                   1  ...        0   \n",
      "\n",
      "      SMOKE_yes  SCC_yes  CALC_Frequently  CALC_Sometimes  CALC_no  \\\n",
      "0             0        0                0               0        1   \n",
      "1             1        1                0               1        0   \n",
      "2             0        0                1               0        0   \n",
      "3             0        0                1               0        0   \n",
      "4             0        0                0               1        0   \n",
      "...         ...      ...              ...             ...      ...   \n",
      "2106          0        0                0               1        0   \n",
      "2107          0        0                0               1        0   \n",
      "2108          0        0                0               1        0   \n",
      "2109          0        0                0               1        0   \n",
      "2110          0        0                0               1        0   \n",
      "\n",
      "      MTRANS_Bike  MTRANS_Motorbike  MTRANS_Public_Transportation  \\\n",
      "0               0                 0                             1   \n",
      "1               0                 0                             1   \n",
      "2               0                 0                             1   \n",
      "3               0                 0                             0   \n",
      "4               0                 0                             1   \n",
      "...           ...               ...                           ...   \n",
      "2106            0                 0                             1   \n",
      "2107            0                 0                             1   \n",
      "2108            0                 0                             1   \n",
      "2109            0                 0                             1   \n",
      "2110            0                 0                             1   \n",
      "\n",
      "      MTRANS_Walking  \n",
      "0                  0  \n",
      "1                  0  \n",
      "2                  0  \n",
      "3                  1  \n",
      "4                  0  \n",
      "...              ...  \n",
      "2106               0  \n",
      "2107               0  \n",
      "2108               0  \n",
      "2109               0  \n",
      "2110               0  \n",
      "\n",
      "[2111 rows x 23 columns]\n"
     ]
    }
   ],
   "source": [
    "print(df_encoded)"
   ]
  },
  {
   "cell_type": "code",
   "execution_count": 160,
   "metadata": {},
   "outputs": [],
   "source": [
    "# Defining the target variable independent variables\n",
    "X = df_encoded\n",
    "y = df['NObeyesdad']"
   ]
  },
  {
   "cell_type": "code",
   "execution_count": 161,
   "metadata": {},
   "outputs": [],
   "source": [
    "# spliting our data set  to training and testing sets\n",
    "X_train,X_test,y_train,y_test = train_test_split(X,y,test_size=0.2,random_state=42)"
   ]
  },
  {
   "cell_type": "code",
   "execution_count": 162,
   "metadata": {},
   "outputs": [
    {
     "data": {
      "text/plain": [
       "DecisionTreeClassifier(random_state=42)"
      ]
     },
     "execution_count": 162,
     "metadata": {},
     "output_type": "execute_result"
    }
   ],
   "source": [
    "#initializing and training the Decision Tree model\n",
    "model = DecisionTreeClassifier(random_state=42)\n",
    "model.fit(X_train,y_train)"
   ]
  },
  {
   "cell_type": "code",
   "execution_count": 163,
   "metadata": {},
   "outputs": [],
   "source": [
    "# making predictions based on the test set\n",
    "y_pred = model.predict(X_test)"
   ]
  },
  {
   "cell_type": "code",
   "execution_count": 164,
   "metadata": {},
   "outputs": [
    {
     "name": "stdout",
     "output_type": "stream",
     "text": [
      "[0 4 0 0 1 0 3 5 2 0 2 4 2 3 4 6 4 3 2 6 2 5 4 2 1 6 6 4 4 0 4 5 6 1 0 4 2\n",
      " 1 1 1 1 3 1 1 5 0 3 1 2 3 1 1 1 5 0 6 3 3 5 3 1 4 6 0 2 2 1 4 0 0 6 6 0 0\n",
      " 5 3 3 5 4 3 1 2 3 3 2 2 1 6 1 6 5 3 0 5 2 0 5 2 1 3 2 2 4 2 6 2 1 4 4 3 2\n",
      " 1 2 1 0 2 2 3 6 1 4 3 2 6 1 3 2 2 4 3 4 3 1 2 6 4 0 4 5 2 5 6 0 0 1 3 2 4\n",
      " 0 2 0 0 1 3 2 5 6 5 0 0 5 1 2 0 3 0 3 1 6 6 1 6 3 4 2 6 2 5 2 1 1 3 0 5 3\n",
      " 2 5 4 3 3 0 4 0 1 4 1 3 2 4 0 3 3 4 4 1 4 5 5 2 4 5 2 0 2 3 0 5 3 3 2 4 6\n",
      " 3 5 3 6 0 4 5 5 5 4 1 5 1 2 2 2 2 0 6 6 5 2 6 2 1 2 2 0 5 2 0 1 1 6 2 3 2\n",
      " 2 4 4 5 2 2 4 4 1 1 4 3 4 5 2 3 2 3 4 3 0 0 5 6 4 4 5 2 6 0 3 2 5 0 2 0 5\n",
      " 3 3 6 6 1 5 0 0 5 1 6 5 6 4 5 3 1 4 5 6 2 4 6 1 0 1 4 0 1 4 2 2 4 0 1 1 3\n",
      " 4 2 5 2 0 0 0 2 4 6 2 4 3 5 2 5 6 6 4 6 1 0 6 6 6 5 6 6 3 2 2 3 4 2 6 5 4\n",
      " 0 2 1 3 2 5 0 1 2 2 5 6 5 0 4 5 4 4 1 2 3 5 4 6 3 5 0 4 5 4 1 0 1 5 2 0 0\n",
      " 4 1 4 6 5 1 5 4 0 1 2 5 3 1 3 6]\n"
     ]
    }
   ],
   "source": [
    "print(y_pred)"
   ]
  },
  {
   "cell_type": "code",
   "execution_count": 165,
   "metadata": {},
   "outputs": [],
   "source": [
    "from sklearn.metrics import classification_report, accuracy_score # reimporting the libraries"
   ]
  },
  {
   "cell_type": "code",
   "execution_count": 166,
   "metadata": {},
   "outputs": [],
   "source": [
    "# Evaluating  the model's perrfomance\n",
    "accuracy = accuracy_score(y_test, y_pred)\n",
    "report = classification_report(y_test, y_pred)"
   ]
  },
  {
   "cell_type": "code",
   "execution_count": 167,
   "metadata": {},
   "outputs": [
    {
     "name": "stdout",
     "output_type": "stream",
     "text": [
      "Accuracy: 0.9479905437352246\n",
      "Classification Report:\n",
      "               precision    recall  f1-score   support\n",
      "\n",
      "           0       0.93      0.98      0.96        56\n",
      "           1       0.92      0.89      0.90        62\n",
      "           2       0.96      0.96      0.96        78\n",
      "           3       0.96      0.95      0.96        58\n",
      "           4       1.00      1.00      1.00        63\n",
      "           5       0.89      0.91      0.90        56\n",
      "           6       0.96      0.94      0.95        50\n",
      "\n",
      "    accuracy                           0.95       423\n",
      "   macro avg       0.95      0.95      0.95       423\n",
      "weighted avg       0.95      0.95      0.95       423\n",
      "\n"
     ]
    }
   ],
   "source": [
    "#showing the results\n",
    "print(\"Accuracy:\",accuracy)\n",
    "print(\"Classification Report:\\n\", report)"
   ]
  },
  {
   "cell_type": "code",
   "execution_count": 168,
   "metadata": {},
   "outputs": [
    {
     "data": {
      "image/png": "[encoded data removed]",
      "text/plain": [
       "<Figure size 1440x720 with 1 Axes>"
      ]
     },
     "metadata": {
      "needs_background": "light"
     },
     "output_type": "display_data"
    }
   ],
   "source": [
    "import matplotlib.pyplot as plt\n",
    "from sklearn import tree\n",
    "\n",
    "# Convert class names to strings\n",
    "class_names = [str(cls) for cls in y.unique()]\n",
    "\n",
    "# Plot the decision tree\n",
    "plt.figure(figsize=(20,10))\n",
    "tree.plot_tree(model, feature_names=X.columns, class_names=class_names, filled=True, rounded=True)\n",
    "plt.title('Decision Tree Visualization')\n",
    "plt.show()\n"
   ]
  },
  {
   "cell_type": "code",
   "execution_count": 169,
   "metadata": {},
   "outputs": [
    {
     "data": {
      "image/png": "[encoded data removed]",
      "text/plain": [
       "<Figure size 720x504 with 2 Axes>"
      ]
     },
     "metadata": {
      "needs_background": "light"
     },
     "output_type": "display_data"
    }
   ],
   "source": [
    "from sklearn.metrics import confusion_matrix\n",
    "\n",
    "# Calculate the confusion matrix\n",
    "cm = confusion_matrix(y_test, y_pred)\n",
    "\n",
    "# Plot the confusion matrix\n",
    "plt.figure(figsize=(10, 7))\n",
    "sns.heatmap(cm, annot=True, fmt='d', cmap='Blues', xticklabels=y.unique(), yticklabels=y.unique())\n",
    "plt.title('Confusion Matrix')\n",
    "plt.xlabel('Predicted Label')\n",
    "plt.ylabel('True Label')\n",
    "plt.show()"
   ]
  },
  {
   "cell_type": "code",
   "execution_count": 170,
   "metadata": {},
   "outputs": [
    {
     "data": {
      "text/plain": [
       "'c:\\\\Users\\\\Hp\\\\Downloads\\\\estimation+of+obesity+levels+based+on+eating+habits+and+physical+condition'"
      ]
     },
     "execution_count": 170,
     "metadata": {},
     "output_type": "execute_result"
    }
   ],
   "source": [
    "pwd"
   ]
  },
  {
   "cell_type": "markdown",
   "metadata": {},
   "source": [
    "The Decision Tree model achieved an accuracy of approximately 94.8% in estimating obesity levels based on eating habits and physical condition. Here’s a summary of the model's performance:\n",
    "\n",
    "Precision, Recall, and F1-Score: These metrics are high across all classes, indicating that the model is performing well in correctly identifying each obesity level.\n",
    "Overall Accuracy: The model correctly classified around 95% of the cases in the test set.\n",
    "This basic model gives a strong indication that decision trees can effectively estimate obesity levels from the given data."
   ]
  },
  {
   "cell_type": "markdown",
   "metadata": {},
   "source": [
    "** SUMMARY, RECOMMENDATIONS AND CONCLUSION **"
   ]
  },
  {
   "cell_type": "markdown",
   "metadata": {},
   "source": [
    "Summary\n",
    "Two machine learning models, Logistic Regression and Decision Trees, were applied to classify obesity levels based on a dataset of eating habits and physical condition. Below are the summarized results for both models:\n",
    "\n",
    "Logistic Regression:\n",
    "\n",
    "Accuracy: 85.96%\n",
    "Precision, Recall, F1-Score: The model generally performed well, with particularly high performance for certain obesity levels. However, there was some variability, especially for classes with less balanced support.\n",
    "Decision Trees:\n",
    "\n",
    "Accuracy: 94.80%\n",
    "Precision, Recall, F1-Score: This model performed better overall, with higher precision, recall, and F1-scores across most obesity levels. The model was particularly effective at correctly identifying individuals in all classes, as indicated by near-perfect performance metrics.\n",
    "\n",
    "Comparison of Models\n",
    "Accuracy: Decision Trees outperformed Logistic Regression, achieving a higher accuracy of 94.80% compared to 85.96%.\n",
    "Precision and Recall: Decision Trees also provided better precision and recall across most obesity levels, suggesting it is better at minimizing both false positives and false negatives.\n",
    "Class-wise Performance: Decision Trees were more consistent in their performance across all classes, indicating a stronger ability to generalize to various obesity levels.\n",
    "\n",
    "Recommendations\n",
    "Model Selection: Given the higher accuracy and more consistent performance across all classes, the Decision Trees model is recommended for deployment. This model will likely provide more reliable classifications, which is critical in a healthcare context where accurate diagnosis is essential.\n",
    "\n",
    "Implementation in Healthcare Settings: The Decision Trees model can be integrated into healthcare systems to assist in the early detection and classification of obesity levels. This tool could support healthcare providers in designing personalized treatment plans based on the patient's specific obesity level.\n",
    "\n",
    "Further Analysis and Improvements:\n",
    "Feature Engineering: Consider additional feature engineering to further enhance the model's predictive power, such as deriving new features from existing ones or incorporating external data sources like genetic information or detailed dietary habits.\n",
    "Model Explainability: Given that healthcare professionals need to understand the reasoning behind model predictions, it is important to provide explanations of the Decision Trees model’s decisions. Tree-based models like Decision Trees are inherently more interpretable than others, making them a good fit for this application.\n",
    "Continuous Monitoring and Updating: Once deployed, the model should be continuously monitored for performance to ensure it remains accurate over time. Additionally, periodic updates with new data will help maintain the model's relevance and accuracy as population health trends evolve.\n",
    "\n",
    "Conclusion\n",
    "The Decision Trees model is the recommended choice for classifying obesity levels due to its superior performance. Implementing this model in healthcare settings will enable more accurate, personalized, and early interventions, ultimately contributing to better public health outcomes."
   ]
  }
 ],
 "metadata": {
  "kernelspec": {
   "display_name": "learn-env",
   "language": "python",
   "name": "python3"
  },
  "language_info": {
   "codemirror_mode": {
    "name": "ipython",
    "version": 3
   },
   "file_extension": ".py",
   "mimetype": "text/x-python",
   "name": "python",
   "nbconvert_exporter": "python",
   "pygments_lexer": "ipython3",
   "version": "3.8.5"
  }
 },
 "nbformat": 4,
 "nbformat_minor": 2
}
